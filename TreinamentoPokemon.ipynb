{
 "cells": [
  {
   "cell_type": "code",
   "execution_count": 13,
   "id": "3cb3d3eb",
   "metadata": {},
   "outputs": [],
   "source": [
    "#IMPORTS E MAIS IMPORTS\n",
    "import numpy as np \n",
    "import pandas as pd\n",
    "import os\n",
    "import PIL\n",
    "import random\n",
    "from PIL import Image\n",
    "import random\n",
    "import tensorflow as tf\n",
    "from tensorflow.keras.models import Sequential\n",
    "from tensorflow.keras.preprocessing.image import load_img, img_to_array\n",
    "from tensorflow.keras.layers import Dense, Flatten, GlobalAveragePooling2D, Conv2D, MaxPooling2D\n",
    "from tensorflow.keras.preprocessing.image import ImageDataGenerator\n",
    "from tensorflow.keras.callbacks import ModelCheckpoint, EarlyStopping"
   ]
  },
  {
   "cell_type": "code",
   "execution_count": 2,
   "id": "b13597ec",
   "metadata": {},
   "outputs": [],
   "source": [
    "#USEI OS PROPRIOS NOMES DAS PASTAS DO DATASET COMO LABELS DE TREINAMENTO \n",
    "directory = \"C:/Users/essec/Desktop/fufs2/PokemonData\"\n",
    "labels = os.listdir(directory)\n",
    "nb = len(labels)"
   ]
  },
  {
   "cell_type": "code",
   "execution_count": 5,
   "id": "4bc7b620",
   "metadata": {},
   "outputs": [],
   "source": [
    "#DAQUI PRA BAIXO È SÒ PARA TRANSFORMAR AS IMAGENS EM ARRAY, REDIMENSIONA-LAS E NORNMALIZA-LAS (SÓ PARTE CHATA....)\n",
    "stored = {}\n",
    "def input_target_split(train_dir,labels):\n",
    "    dataset = []\n",
    "    count = 0\n",
    "    for label in labels:\n",
    "        folder = os.path.join(train_dir,label)\n",
    "        for image in os.listdir(folder):\n",
    "            try:\n",
    "                img=load_img(os.path.join(folder,image), target_size=(150,150))\n",
    "                img=img_to_array(img)\n",
    "                img=img/255.0\n",
    "                dataset.append((img,count))\n",
    "            except:\n",
    "                pass\n",
    "\n",
    "        print(f'\\rCompleted: {label}',end='')\n",
    "        stored[label] = count\n",
    "        count+=1\n",
    "    random.shuffle(dataset)\n",
    "    X, y = zip(*dataset)\n",
    "    \n",
    "    return np.array(X),np.array(y)"
   ]
  },
  {
   "cell_type": "code",
   "execution_count": 6,
   "id": "d14a4846",
   "metadata": {
    "scrolled": true
   },
   "outputs": [
    {
     "name": "stdout",
     "output_type": "stream",
     "text": [
      "Completed: Zubatstuffdslash"
     ]
    }
   ],
   "source": [
    "X, y = input_target_split(directory,labels)"
   ]
  },
  {
   "cell_type": "code",
   "execution_count": 7,
   "id": "e0c36fc3",
   "metadata": {},
   "outputs": [],
   "source": [
    "from sklearn.model_selection import train_test_split\n",
    "X_train, X_test, y_train, y_test = train_test_split(X, y, test_size=0.22, random_state=42)"
   ]
  },
  {
   "cell_type": "code",
   "execution_count": 8,
   "id": "4a13ec13",
   "metadata": {},
   "outputs": [],
   "source": [
    "datagen = ImageDataGenerator(horizontal_flip=True,\n",
    "                             vertical_flip=True,\n",
    "                             rotation_range=20,\n",
    "                             zoom_range=0.2,\n",
    "                             width_shift_range = 0.2,\n",
    "                             height_shift_range = 0.2,\n",
    "                             shear_range=0.1,\n",
    "                             fill_mode=\"nearest\")\n",
    "\n",
    "testgen = ImageDataGenerator()\n",
    "\n",
    "datagen.fit(X_train)\n",
    "testgen.fit(X_test)"
   ]
  },
  {
   "cell_type": "code",
   "execution_count": 9,
   "id": "f4ecf46b",
   "metadata": {},
   "outputs": [],
   "source": [
    "y_train = np.eye(nb)[y_train]\n",
    "y_test = np.eye(nb)[y_test]"
   ]
  },
  {
   "cell_type": "code",
   "execution_count": 11,
   "id": "c598b8d3",
   "metadata": {},
   "outputs": [],
   "source": [
    "#USANDO DENSENET201 PARA DEIXAR MAIS RAPIDO, COM MENOS ERROS E MAIS PRATICO\n",
    "#LIMITANDO A DENSENET A 675 LAYERS ._.\n",
    "from tensorflow.keras.applications import DenseNet201\n",
    "\n",
    "img_size = 150\n",
    "base_model = DenseNet201(include_top = False,\n",
    "                         weights = 'imagenet',\n",
    "                         input_shape = (img_size,img_size,3))\n",
    "\n",
    "for layer in base_model.layers[:675]:\n",
    "    layer.trainable = False\n",
    "\n",
    "for layer in base_model.layers[675:]:\n",
    "    layer.trainable = True"
   ]
  },
  {
   "cell_type": "code",
   "execution_count": 12,
   "id": "00b5693b",
   "metadata": {},
   "outputs": [],
   "source": [
    "#MODELINHO SEQUENCIAL PADRÃO  \n",
    "model = Sequential()\n",
    "\n",
    "model.add(base_model)\n",
    "#GLOBALAVERAGE PQ COMBINA ACHEI ELA BEM EFICIENTE PARA POKEMONS\n",
    "model.add(GlobalAveragePooling2D())\n",
    "model.add(Dense(nb, activation=tf.nn.softmax))\n",
    "                                             #OTIMIZADOR ADAM PQ È O MAIS COMUM                                      PRECISAO \n",
    "model.compile(optimizer = tf.keras.optimizers.Adam(learning_rate = 0.001), loss = 'categorical_crossentropy', metrics=['accuracy'])\n"
   ]
  },
  {
   "cell_type": "code",
   "execution_count": null,
   "id": "f1e7d593",
   "metadata": {},
   "outputs": [],
   "source": [
    "#CAMINHO DO SAVE\n",
    "path = \"C:/Users/essec/Desktop/\"\n",
    "                            #SALVAMOS O MODELO TREINADO EM .H5\n",
    "model.save(os.path.join(path,\"fufs2/modelsave.h5\"))\n"
   ]
  },
  {
   "cell_type": "code",
   "execution_count": null,
   "id": "00f7be55",
   "metadata": {
    "scrolled": false
   },
   "outputs": [],
   "source": [
    "#TREINAR ESSE MODELO USANDO QUANTOS EPOCHS SEU COMPUTADOR AGUENTAR :)\n",
    "EPOCHS = 50\n",
    "\n",
    "hist = model.fit(datagen.flow(X_train,y_train,batch_size=32),\n",
    "                                        validation_data=testgen.flow(X_test,y_test,batch_size=32),\n",
    "                                        epochs=EPOCHS)\n"
   ]
  },
  {
   "cell_type": "code",
   "execution_count": 22,
   "id": "f11c034e",
   "metadata": {},
   "outputs": [
    {
     "name": "stdout",
     "output_type": "stream",
     "text": [
      "Rattata\n"
     ]
    }
   ],
   "source": [
    "#BASICAMENTE PARA TESTAR O MODELO (ISSO TA NO BOT)\n",
    "import cv2\n",
    "image = cv2.imread('C:/Users/essec/Desktop/bulb3.jpg')\n",
    "img = cv2.resize(image, (150, 150))\n",
    "img=img/255.0\n",
    "img = np.expand_dims(img, axis=0)\n",
    "pred = new_model.predict(img)\n",
    "label = np.argmax(pred,axis=1)\n",
    "print(labels[label[0]])"
   ]
  },
  {
   "cell_type": "code",
   "execution_count": null,
   "id": "5dd07ba5",
   "metadata": {},
   "outputs": [],
   "source": []
  }
 ],
 "metadata": {
  "kernelspec": {
   "display_name": "Python 3 (ipykernel)",
   "language": "python",
   "name": "python3"
  },
  "language_info": {
   "codemirror_mode": {
    "name": "ipython",
    "version": 3
   },
   "file_extension": ".py",
   "mimetype": "text/x-python",
   "name": "python",
   "nbconvert_exporter": "python",
   "pygments_lexer": "ipython3",
   "version": "3.9.12"
  }
 },
 "nbformat": 4,
 "nbformat_minor": 5
}
